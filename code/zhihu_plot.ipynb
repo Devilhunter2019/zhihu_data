{
 "cells": [
  {
   "cell_type": "code",
   "execution_count": 4,
   "metadata": {},
   "outputs": [],
   "source": [
    "# pyecharts 库统一调用\n",
    "from pyecharts import options as opts\n",
    "from pyecharts.charts import Page, Pie, Line, Scatter3D, Scatter, Map, Bar\n",
    "from pyecharts.globals import JsCode\n",
    "import pymongo\n",
    "import math\n",
    "import time\n",
    "import re"
   ]
  },
  {
   "cell_type": "markdown",
   "metadata": {},
   "source": [
    "# 本篇分为四个部分\n",
    "## 第一部分 知乎大 V 文章、回答随时间变化图及收藏夹、专栏前 50\n",
    "## 第二部分 知乎用户相关数据\n",
    "## 第三部分 图表绘制\n",
    "## 第四部分 词云"
   ]
  },
  {
   "cell_type": "markdown",
   "metadata": {},
   "source": [
    "# 第一部分 知乎大 V 文章、回答随时间变化图及收藏夹、专栏前 50\n",
    "### 这里大 V 特指粉丝数 10w 以上用户\n",
    "### 数据抓取日期 2019-7-23\n",
    "1. 知乎月回答折线图\n",
    "2. 知乎年回答数柱状图\n",
    "3. 知乎月文章数折线图\n",
    "4. 知乎年文章数柱状图"
   ]
  },
  {
   "cell_type": "code",
   "execution_count": 31,
   "metadata": {},
   "outputs": [],
   "source": [
    "# 1 知乎按月回答折线图\n",
    "# 10 w以上 938 位回答数据，874 位文章数据\n",
    "def line_zh() -> Line: # 知乎 10 w 粉以上大 V，回答变化图\n",
    "    def get_ready(ch='user_info',dbname='zhihu'):\n",
    "        '''数据库调用'''\n",
    "        global mycol, myclient,myhp\n",
    "        myclient = pymongo.MongoClient(\"mongodb://localhost:27017/\")\n",
    "        mydb = myclient[dbname]\n",
    "        mycol = mydb[ch]\n",
    "        myhp = mydb['user_answer_10w']\n",
    "    get_ready()\n",
    "    ss = myhp.find({})\n",
    "    nz = {}\n",
    "    for s in ss:\n",
    "        timestamp = s['created_time']\n",
    "        time_local = time.localtime(timestamp)\n",
    "        #时间数组 转 新的时间格式(2016-05-05 20:28:54)\n",
    "        dt = time.strftime(\"%Y-%m\",time_local) # 时间\n",
    "        nz[dt] = nz.get(dt, 0) + 1\n",
    "    print(len(nz))\n",
    "    nz = sorted(nz.items(), key=lambda item:item[0])\n",
    "    x,y = [],[]\n",
    "    for n in nz:\n",
    "        x.append(n[0])\n",
    "        y.append(n[1])\n",
    "    c = (\n",
    "        Line(init_opts = opts.InitOpts(width=\"1100px\", height=\"500px\"))\n",
    "        .add_xaxis(x)\n",
    "        .add_yaxis(\"知乎\", y, is_smooth=True)\n",
    "        .set_global_opts(title_opts=opts.TitleOpts(title=\"知乎大V回答数月变化图\"),\n",
    "                        toolbox_opts=opts.ToolboxOpts(), # 数据展示\n",
    "                        yaxis_opts=opts.AxisOpts(name='数量/个'),\n",
    "                        xaxis_opts=opts.AxisOpts(name='时间/月'),\n",
    "                         datazoom_opts=opts.DataZoomOpts(is_show=True, range_start=0, range_end=90),\n",
    "                        )\n",
    "    )\n",
    "    return c\n",
    "# line_zh().render('C:\\\\Users\\\\yc\\\\Desktop\\\\zhihuhuida.html')"
   ]
  },
  {
   "cell_type": "code",
   "execution_count": 25,
   "metadata": {},
   "outputs": [
    {
     "data": {
      "text/plain": [
       "'C:\\\\Users\\\\yc\\\\Desktop\\\\huiday.html'"
      ]
     },
     "execution_count": 25,
     "metadata": {},
     "output_type": "execute_result"
    }
   ],
   "source": [
    "# 2 知乎年回答数柱状图\n",
    "def bar7() -> Bar: #  \n",
    "    def get_ready(ch='user_info',dbname='zhihu'):\n",
    "        '''数据库调用'''\n",
    "        global mycol, myclient,myhp\n",
    "        myclient = pymongo.MongoClient(\"mongodb://localhost:27017/\")\n",
    "        mydb = myclient[dbname]\n",
    "        mycol = mydb[ch]\n",
    "        myhp = mydb['user_answer_10w']\n",
    "    get_ready()\n",
    "    ss = myhp.find({})\n",
    "    nz = {}\n",
    "    for s in ss:\n",
    "        timestamp = s['created_time']\n",
    "        time_local = time.localtime(timestamp)\n",
    "        #时间数组 转 新的时间格式(2016-05-05 20:28:54)\n",
    "        dt = time.strftime(\"%Y\",time_local) # 时间\n",
    "        nz[dt] = nz.get(dt, 0) + 1\n",
    "    #X轴，Y轴数据\n",
    "    send_count = sorted(nz.items(), key=lambda item:item[0])\n",
    "    x,y = [],[]\n",
    "    for se in send_count:\n",
    "        x.append(se[0])\n",
    "        y.append(round(se[1],1))\n",
    "    bar = (\n",
    "        Bar(init_opts = opts.InitOpts(width=\"1100px\", height=\"500px\"))\n",
    "        .add_xaxis(x)\n",
    "        .add_yaxis(\"回答数\", y)\n",
    "        .set_global_opts(title_opts=opts.TitleOpts(title=\"知乎大V各年回答数\"),\n",
    "                    toolbox_opts=opts.ToolboxOpts(),\n",
    "                    legend_opts=opts.LegendOpts(is_show=True),\n",
    "                    datazoom_opts=opts.DataZoomOpts(is_show=True, range_start=0, range_end=90),\n",
    "                    xaxis_opts=opts.AxisOpts(name=\"年份\",axislabel_opts=opts.LabelOpts(formatter=\"{value}\", font_size=12, rotate=30,) # x,y 轴标签\n",
    "                        ),\n",
    "                    yaxis_opts=opts.AxisOpts(name='回答数/个',axislabel_opts=opts.LabelOpts(formatter=\"{value}\")))\n",
    "        .set_series_opts(label_opts=opts.LabelOpts(position='inside'), # 图上标签\n",
    "    )\n",
    "\n",
    "    )\n",
    "    return bar\n",
    "# bar7().render('C:\\\\Users\\\\yc\\\\Desktop\\\\huiday.html')"
   ]
  },
  {
   "cell_type": "code",
   "execution_count": 20,
   "metadata": {},
   "outputs": [
    {
     "data": {
      "text/plain": [
       "'C:\\\\Users\\\\yc\\\\Desktop\\\\article.html'"
      ]
     },
     "execution_count": 20,
     "metadata": {},
     "output_type": "execute_result"
    }
   ],
   "source": [
    "# 3 知乎按年文章数\n",
    "def bar8() -> Bar: #  \n",
    "    def get_ready(ch='user_info',dbname='zhihu'):\n",
    "        '''数据库调用'''\n",
    "        global mycol, myclient,myhp\n",
    "        myclient = pymongo.MongoClient(\"mongodb://localhost:27017/\")\n",
    "        mydb = myclient[dbname]\n",
    "        mycol = mydb[ch]\n",
    "        myhp = mydb['user_article_10w']\n",
    "    get_ready()\n",
    "    ss = myhp.find({})\n",
    "    nz = {}\n",
    "    for s in ss:\n",
    "        timestamp = s['updated']\n",
    "        time_local = time.localtime(timestamp)\n",
    "        #时间数组 转 新的时间格式(2016-05-05 20:28:54)\n",
    "        dt = time.strftime(\"%Y\",time_local) # 时间\n",
    "        nz[dt] = nz.get(dt, 0) + 1\n",
    "    #X轴，Y轴数据\n",
    "    send_count = sorted(nz.items(), key=lambda item:item[0])\n",
    "    x,y = [],[]\n",
    "    for se in send_count:\n",
    "        x.append(se[0])\n",
    "        y.append(round(se[1],1))\n",
    "    bar = (\n",
    "        Bar(init_opts = opts.InitOpts(width=\"1100px\", height=\"500px\"))\n",
    "        .add_xaxis(x)\n",
    "        .add_yaxis(\"文章数\", y)\n",
    "        .set_global_opts(title_opts=opts.TitleOpts(title=\"知乎大V各年文章数\"),\n",
    "                    toolbox_opts=opts.ToolboxOpts(),\n",
    "                    legend_opts=opts.LegendOpts(is_show=True),\n",
    "                    datazoom_opts=opts.DataZoomOpts(is_show=True, range_start=0, range_end=90),\n",
    "                    xaxis_opts=opts.AxisOpts(name=\"年份\",axislabel_opts=opts.LabelOpts(formatter=\"{value}\", font_size=12, rotate=30,) # x,y 轴标签\n",
    "                        ),\n",
    "                    yaxis_opts=opts.AxisOpts(name='文章数/篇',axislabel_opts=opts.LabelOpts(formatter=\"{value}\")))\n",
    "        .set_series_opts(label_opts=opts.LabelOpts(position='inside'), # 图上标签\n",
    "    )\n",
    "\n",
    "    )\n",
    "    return bar\n",
    "# bar8().render('C:\\\\Users\\\\yc\\\\Desktop\\\\article.html')"
   ]
  },
  {
   "cell_type": "code",
   "execution_count": 29,
   "metadata": {},
   "outputs": [
    {
     "name": "stdout",
     "output_type": "stream",
     "text": [
      "73\n"
     ]
    },
    {
     "data": {
      "text/plain": [
       "'C:\\\\Users\\\\yc\\\\Desktop\\\\ar.html'"
      ]
     },
     "execution_count": 29,
     "metadata": {},
     "output_type": "execute_result"
    }
   ],
   "source": [
    "# 4 知乎按月回答\n",
    "import pymongo # 10 w以上 938 位回答数据，874 位文章数据\n",
    "import time\n",
    "\n",
    "def line_ar() -> Line: # 知乎 10 w 粉以上大 V，回答变化图\n",
    "    def get_ready(ch='user_info',dbname='zhihu'):\n",
    "        '''数据库调用'''\n",
    "        global mycol, myclient,myhp\n",
    "        myclient = pymongo.MongoClient(\"mongodb://localhost:27017/\")\n",
    "        mydb = myclient[dbname]\n",
    "        mycol = mydb[ch]\n",
    "        myhp = mydb['user_article_10w']\n",
    "    get_ready()\n",
    "    ss = myhp.find({})\n",
    "    nz = {}\n",
    "    for s in ss:\n",
    "        timestamp = s['updated']\n",
    "        time_local = time.localtime(timestamp)\n",
    "        #时间数组 转 新的时间格式(2016-05-05 20:28:54)\n",
    "        dt = time.strftime(\"%Y-%m\",time_local) # 时间\n",
    "        nz[dt] = nz.get(dt, 0) + 1\n",
    "    print(len(nz))\n",
    "    nz = sorted(nz.items(), key=lambda item:item[0])\n",
    "    x,y = [],[]\n",
    "    for n in nz:\n",
    "        x.append(n[0])\n",
    "        y.append(n[1])\n",
    "    c = (\n",
    "        Line(init_opts = opts.InitOpts(width=\"1100px\", height=\"500px\"))\n",
    "        .add_xaxis(x)\n",
    "        .add_yaxis(\"知乎\", y, is_smooth=True)\n",
    "        .set_global_opts(title_opts=opts.TitleOpts(title=\"知乎大V文章数月变化图\"),\n",
    "                        toolbox_opts=opts.ToolboxOpts(), # 数据展示\n",
    "                        yaxis_opts=opts.AxisOpts(name='数量/篇'),\n",
    "                        xaxis_opts=opts.AxisOpts(name='时间/月'),\n",
    "                         datazoom_opts=opts.DataZoomOpts(is_show=True, range_start=0, range_end=90),\n",
    "                        )\n",
    "    )\n",
    "    return c\n",
    "# line_ar().render('C:\\\\Users\\\\yc\\\\Desktop\\\\ar.html')"
   ]
  },
  {
   "cell_type": "markdown",
   "metadata": {},
   "source": [
    "# 第二部分 知乎用户相关数据\n",
    "* 数据：粉丝数大于 1w 的用户\n",
    "* 抓取时间：2019-7-23\n",
    "* 包括文章数、回答数、收藏数、点赞数、感谢数等。\n",
    "* 绘制前50柱状图，其中收录回答数为前 53，收录文章数为前 52.\n",
    "* 3d 三散点图"
   ]
  },
  {
   "cell_type": "code",
   "execution_count": 11,
   "metadata": {},
   "outputs": [],
   "source": [
    "# 3d 散点图 粉丝数，回答数，点赞数\n",
    "def scatter3d() -> Scatter3D:\n",
    "    def get_ready(ch='user_info',dbname='zhihu'):\n",
    "        '''数据库调用'''\n",
    "        global mycol, myclient,myhp\n",
    "        myclient = pymongo.MongoClient(\"mongodb://localhost:27017/\")\n",
    "        mydb = myclient[dbname]\n",
    "        mycol = mydb[ch]\n",
    "    \n",
    "    get_ready()\n",
    "    ss = mycol.find({})\n",
    "    c = 0\n",
    "    rp,fa,fo = {},{},{}\n",
    "    for s in ss:\n",
    "        if '.' in s['user_id']:\n",
    "            s['user_id'] = s['user_id'].replace('.','!---!')\n",
    "        if 'followerCount' not in s['user_info'][s['user_id']]:\n",
    "    #         mycol.delete_one(s)\n",
    "            continue\n",
    "        ans = s['user_info'][s['user_id']]['answerCount']\n",
    "        fav = s['user_info'][s['user_id']]['favoritedCount']\n",
    "        fol = s['user_info'][s['user_id']]['followerCount']\n",
    "        rp[s['user_info'][s['user_id']]['name']] = round(math.log(ans,10), 1) if ans != 0 else -1 # z \n",
    "        fa[s['user_info'][s['user_id']]['name']] = round(math.log(fav,10), 1) if fav != 0 else -1 # x\n",
    "        fo[s['user_info'][s['user_id']]['name']] = round(math.log(fol,10), 1) if fol != 0 else -1 # y\n",
    "        c+=1\n",
    "    print('人数：',c)   \n",
    "\n",
    "    data = [ (fa[i],fo[i],rp[i],i) for i in rp ] # 提示框信息\n",
    "    c = (\n",
    "        Scatter3D(init_opts = opts.InitOpts(width=\"1100px\", height=\"500px\")) # init_opts = opts.InitOpts()\n",
    "        .add(\"用户回答数、获得收藏数、粉丝数散点图\", data,\n",
    "#             label_opts=opts.LabelOpts(formatter=\"{value}/w\"),\n",
    "            xaxis3d_opts=opts.Axis3DOpts(type_='value', max_='dataMax',min_='datamin',name='获得收藏数'),\n",
    "            yaxis3d_opts=opts.Axis3DOpts(type_='value', max_='dataMax',min_='datamin', name='粉丝数'),\n",
    "            zaxis3d_opts=opts.Axis3DOpts(type_='value', max_='dataMax',min_='datamin', name='回答数'),\n",
    "            grid3d_opts=opts.Grid3DOpts(width=150, depth=150, is_rotate=False),\n",
    "#             itemstyle_opts=opts.ItemStyleOpts(opacity=0.9), # 透明度设置\n",
    "            )\n",
    "        .set_global_opts(\n",
    "            title_opts=opts.TitleOpts(\"用户回答数、获得收藏数、粉丝数散点图\", subtitle=\"Note: 坐标轴中-1，代表数量为0; 除此之外 x(获得收藏数) 、y(粉丝数) 轴刻度表示10的 x 或 y 方\"),\n",
    "            toolbox_opts=opts.ToolboxOpts(), # 数据展示\n",
    "            visualmap_opts=opts.VisualMapOpts(max_=3.5, dimension=2,),\n",
    "        )\n",
    "       .set_series_opts(markpoint_opts=opts.MarkPointOpts(symbol_size=1),\n",
    "                       )\n",
    "    )\n",
    "    return c\n",
    "# scatter3d().render('C:\\\\Users\\\\yc\\\\Desktop\\\\happy.html')"
   ]
  },
  {
   "cell_type": "code",
   "execution_count": 12,
   "metadata": {},
   "outputs": [],
   "source": [
    "# 3d 散点图 收藏回答，收藏文章、粉丝数\n",
    "def scatter3d2() -> Scatter3D:\n",
    "    def get_ready(ch='user_info',dbname='zhihu'):\n",
    "        '''数据库调用'''\n",
    "        global mycol, myclient,myhp\n",
    "        myclient = pymongo.MongoClient(\"mongodb://localhost:27017/\")\n",
    "        mydb = myclient[dbname]\n",
    "        mycol = mydb[ch]\n",
    "    \n",
    "    get_ready()\n",
    "    ss = mycol.find({})\n",
    "    c = 0\n",
    "    rp,fa,fo = {},{},{}\n",
    "    for s in ss:\n",
    "        if '.' in s['user_id']:\n",
    "            s['user_id'] = s['user_id'].replace('.','!---!')\n",
    "        if 'followerCount' not in s['user_info'][s['user_id']]:\n",
    "    #         mycol.delete_one(s)\n",
    "            continue\n",
    "        ans = s['user_info'][s['user_id']]['includedAnswersCount']\n",
    "        fav = s['user_info'][s['user_id']]['includedArticlesCount']\n",
    "        fol = s['user_info'][s['user_id']]['followerCount']\n",
    "        rp[s['user_info'][s['user_id']]['name']] = round(math.log(ans,10), 1) if ans != 0 else -1 # x\n",
    "        fa[s['user_info'][s['user_id']]['name']] = round(math.log(fav,10), 1) if fav != 0 else -1 # y\n",
    "        fo[s['user_info'][s['user_id']]['name']] = round(math.log(fol,10), 1) if fol != 0 else -1 # z\n",
    "        c+=1\n",
    "    print('人数：',c)   \n",
    "\n",
    "    data = [ (rp[i],fa[i],fo[i],i) for i in rp ] # 提示框信息\n",
    "    c = (\n",
    "        Scatter3D(init_opts = opts.InitOpts(width=\"1100px\", height=\"500px\")) # init_opts = opts.InitOpts()\n",
    "        .add(\"用户收藏回答数、文章数，粉丝数散点图\", data,\n",
    "#             label_opts=opts.LabelOpts(formatter=\"{value}/w\"),\n",
    "            xaxis3d_opts=opts.Axis3DOpts(type_='value', max_='dataMax',min_='datamin',name='收录回答数'),\n",
    "            yaxis3d_opts=opts.Axis3DOpts(type_='value', max_='dataMax',min_='datamin', name='收录文章数'),\n",
    "            zaxis3d_opts=opts.Axis3DOpts(type_='value', max_='dataMax',min_='datamin', name='粉丝数'),\n",
    "            grid3d_opts=opts.Grid3DOpts(width=150, depth=150, is_rotate=False),\n",
    "#             itemstyle_opts=opts.ItemStyleOpts(opacity=0.9), # 透明度设置\n",
    "            )\n",
    "        .set_global_opts(\n",
    "            title_opts=opts.TitleOpts(\"用户收藏回答数、文章数，粉丝数散点图\", subtitle=\"Note: 坐标轴中-1，代表数量为0; 除此之外 x(收录回答数) 、y(收录文章数) 轴刻度表示10的 x 或 y 方\"),\n",
    "            toolbox_opts=opts.ToolboxOpts(), # 数据展示\n",
    "            visualmap_opts=opts.VisualMapOpts(max_=5.7, min_=4,dimension=2,),\n",
    "        )\n",
    "       .set_series_opts(markpoint_opts=opts.MarkPointOpts(symbol_size=1),\n",
    "                       )\n",
    "    )\n",
    "    return c\n",
    "# scatter3d2().render('C:\\\\Users\\\\yc\\\\Desktop\\\\include.html')"
   ]
  },
  {
   "cell_type": "code",
   "execution_count": 33,
   "metadata": {},
   "outputs": [],
   "source": [
    "# 柱状图 1\n",
    "def barm(cl='voteupCount',n=901220,title=\"获得赞同数\",yname='') -> Bar: #  \n",
    "    def get_ready(ch='user_info',dbname='zhihu'):\n",
    "        '''数据库调用'''\n",
    "        global mycol, myclient,myhp\n",
    "        myclient = pymongo.MongoClient(\"mongodb://localhost:27017/\")\n",
    "        mydb = myclient[dbname]\n",
    "        mycol = mydb[ch]\n",
    "    \n",
    "    get_ready()\n",
    "    ss = mycol.find({})\n",
    "    c = 0\n",
    "    lz = {}\n",
    "    for s in ss:\n",
    "        if '.' in s['user_id']:\n",
    "            s['user_id'] = s['user_id'].replace('.','!---!')\n",
    "        if 'followerCount' not in s['user_info'][s['user_id']]:\n",
    "    #         mycol.delete_one(s)\n",
    "            continue\n",
    "        if s['user_info'][s['user_id']][cl]>n:\n",
    "            lz[s['user_info'][s['user_id']]['name']] = s['user_info'][s['user_id']][cl]\n",
    "            c+=1\n",
    "    print('人数：',c)   \n",
    "    #X轴，Y轴数据\n",
    "    send_count = sorted(lz.items(), key=lambda item:item[1], reverse=True)\n",
    "    x,y = [],[]\n",
    "    for se in send_count:\n",
    "        x.append(se[0])\n",
    "        y.append(se[1])\n",
    "    bar = (\n",
    "        Bar(init_opts = opts.InitOpts(width=\"1100px\", height=\"500px\"))\n",
    "        .add_xaxis(x)\n",
    "        .add_yaxis(\"用户\", y)\n",
    "        .set_global_opts(title_opts=opts.TitleOpts(title=\"知乎\"+ title +\"前50用户\"),\n",
    "                    toolbox_opts=opts.ToolboxOpts(),\n",
    "                    legend_opts=opts.LegendOpts(is_show=True),\n",
    "                    datazoom_opts=opts.DataZoomOpts(is_show=True, range_start=0, range_end=50),\n",
    "                    xaxis_opts=opts.AxisOpts(name=\"姓名\",axislabel_opts=opts.LabelOpts(formatter=\"{value}\", font_size=12, rotate=30,) # x,y 轴标签\n",
    "                        ),\n",
    "                    yaxis_opts=opts.AxisOpts(name=title+yname,axislabel_opts=opts.LabelOpts(formatter=\"{value}\")))\n",
    "        .set_series_opts(label_opts=opts.LabelOpts(position='inside'), # 图上标签\n",
    "    )\n",
    "\n",
    "    )\n",
    "    return bar\n",
    "# barm(cl='voteupCount',n=901220,title=\"获得赞同数\").render('C:\\\\Users\\\\yc\\\\Desktop\\\\voteup50.html')\n",
    "# barm(cl='thankedCount',n=154000,title=\"获得感谢数\").render('C:\\\\Users\\\\yc\\\\Desktop\\\\thanked50.html')\n",
    "# barm(cl='articlesCount',n=1220,title=\"文章数\").render('C:\\\\Users\\\\yc\\\\Desktop\\\\article50.html')\n",
    "# barm(cl='answerCount',n=4780,title=\"回答数\").render('C:\\\\Users\\\\yc\\\\Desktop\\\\answer50.html')\n",
    "# barm(cl='includedAnswersCount',n=69,title=\"收录回答数\").render('C:\\\\Users\\\\yc\\\\Desktop\\\\includeanswer50.html')\n",
    "# barm(cl='includedArticlesCount',n=42,title=\"收录文章数\").render('C:\\\\Users\\\\yc\\\\Desktop\\\\includearticle50.html')"
   ]
  },
  {
   "cell_type": "code",
   "execution_count": 34,
   "metadata": {},
   "outputs": [],
   "source": [
    "# 柱状图 2\n",
    "def barm2(cl='voteupCount',n=901220,title=\"获得赞同数\",yname='') -> Bar: #  \n",
    "    def get_ready(ch='user_info',dbname='zhihu'):\n",
    "        '''数据库调用'''\n",
    "        global mycol, myclient,myhp\n",
    "        myclient = pymongo.MongoClient(\"mongodb://localhost:27017/\")\n",
    "        mydb = myclient[dbname]\n",
    "        mycol = mydb[ch]\n",
    "    \n",
    "    get_ready()\n",
    "    ss = mycol.find({})\n",
    "    c = 0\n",
    "    lz = {}\n",
    "    for s in ss:\n",
    "        if '.' in s['user_id']:\n",
    "            s['user_id'] = s['user_id'].replace('.','!---!')\n",
    "        if 'followerCount' not in s['user_info'][s['user_id']]:\n",
    "    #         mycol.delete_one(s)\n",
    "            continue\n",
    "        if s['user_info'][s['user_id']][cl]>n:\n",
    "            lz[s['user_info'][s['user_id']]['name']] = s['user_info'][s['user_id']][cl]\n",
    "            c+=1\n",
    "    print('人数：',c)   \n",
    "    #X轴，Y轴数据\n",
    "    send_count = sorted(lz.items(), key=lambda item:item[1], reverse=True)\n",
    "    x,y = [],[]\n",
    "    for se in send_count:\n",
    "        x.append(se[0])\n",
    "        y.append(round(se[1]/10000,1))\n",
    "    bar = (\n",
    "        Bar(init_opts = opts.InitOpts(width=\"1100px\", height=\"500px\"))\n",
    "        .add_xaxis(x)\n",
    "        .add_yaxis(\"用户\", y)\n",
    "        .set_global_opts(title_opts=opts.TitleOpts(title=\"知乎\"+ title +\"前50用户\"),\n",
    "                    toolbox_opts=opts.ToolboxOpts(),\n",
    "                    legend_opts=opts.LegendOpts(is_show=True),\n",
    "                    datazoom_opts=opts.DataZoomOpts(is_show=True, range_start=0, range_end=50),\n",
    "                    xaxis_opts=opts.AxisOpts(name=\"姓名\",axislabel_opts=opts.LabelOpts(formatter=\"{value}\", font_size=12, rotate=30,) # x,y 轴标签\n",
    "                        ),\n",
    "                    yaxis_opts=opts.AxisOpts(name=title+yname,axislabel_opts=opts.LabelOpts(formatter=\"{value}\")))\n",
    "        .set_series_opts(label_opts=opts.LabelOpts(position='inside'), # 图上标签\n",
    "    )\n",
    "\n",
    "    )\n",
    "    return bar\n",
    "# barm2(cl='followerCount',n=482000,title=\"粉丝数\",yname=\"/w\").render('C:\\\\Users\\\\yc\\\\Desktop\\\\follow50.html')\n",
    "# barm2(cl='favoritedCount',n=790000,title=\"获得收藏数\",yname=\"/w\").render('C:\\\\Users\\\\yc\\\\Desktop\\\\favorited50.html')"
   ]
  },
  {
   "cell_type": "markdown",
   "metadata": {},
   "source": [
    "# 第三部分 图表绘制\n",
    "* 用户数据\n",
    "* 专栏，收藏等详细数据"
   ]
  },
  {
   "cell_type": "code",
   "execution_count": 35,
   "metadata": {},
   "outputs": [
    {
     "name": "stdout",
     "output_type": "stream",
     "text": [
      "人数： 50\n",
      "人数： 53\n",
      "人数： 50\n",
      "人数： 52\n",
      "人数： 50\n",
      "人数： 50\n",
      "人数： 50\n",
      "人数： 50\n",
      "人数： 9385\n",
      "人数： 9385\n"
     ]
    }
   ],
   "source": [
    "# 用户\n",
    "page = Page()\n",
    "page.add(barm(cl='answerCount',n=4780,title=\"回答数\"), barm(cl='includedAnswersCount',n=69,title=\"收录回答数\"),barm(cl='articlesCount',n=1220,title=\"文章数\"),barm(cl='includedArticlesCount',n=42,title=\"收录文章数\"),barm2(cl='followerCount',n=482000,title=\"粉丝数\",yname=\"/w\"),barm2(cl='voteupCount',n=901220,title=\"获得赞同数\",yname=\"/w\"),barm2(cl='thankedCount',n=154000,title=\"获得感谢数\",yname=\"/w\"),barm2(cl='favoritedCount',n=790000,title=\"获得收藏数\",yname=\"/w\"),\n",
    "         scatter3d(),scatter3d2()\n",
    "        )\n",
    "page.render('C:\\\\Users\\\\yc\\\\Desktop\\\\zhihu_user.html')"
   ]
  },
  {
   "cell_type": "code",
   "execution_count": 32,
   "metadata": {},
   "outputs": [
    {
     "name": "stdout",
     "output_type": "stream",
     "text": [
      "人数： 50\n",
      "人数： 50\n",
      "104\n",
      "73\n"
     ]
    }
   ],
   "source": [
    "# 专栏，收藏\n",
    "page = Page()\n",
    "page.add(bar5(),bar6(),line_zh(),line_ar(),bar7(),bar8())\n",
    "page.render('C:\\\\Users\\\\yc\\\\Desktop\\\\zhihu_p.html')"
   ]
  },
  {
   "cell_type": "code",
   "execution_count": null,
   "metadata": {},
   "outputs": [],
   "source": []
  },
  {
   "cell_type": "code",
   "execution_count": 6,
   "metadata": {},
   "outputs": [
    {
     "name": "stdout",
     "output_type": "stream",
     "text": [
      "50 774\n"
     ]
    }
   ],
   "source": [
    "# gephi\n",
    "import pymongo\n",
    "def get_ready(ch='user_pd',dbname='zhihu'):\n",
    "    '''数据库调用'''\n",
    "    global mycol, myclient,myhp\n",
    "    myclient = pymongo.MongoClient(\"mongodb://localhost:27017/\")\n",
    "    mydb = myclient[dbname]\n",
    "    mycol = mydb[ch]\n",
    "get_ready()\n",
    "ss = mycol.find({})\n",
    "ss2 = mycol.find({})\n",
    "dz,dz2,z,zn = {1,},{1,},{},{}\n",
    "node,edge = [],[]\n",
    "namev = []\n",
    "for s in ss:\n",
    "    z[s['user_id']] = s['follower_count']\n",
    "    zn[s['user_id']] = s['name']\n",
    "for s in ss2:\n",
    "    if s['follower_count']>500000:\n",
    "        if s['from'] in z and z[s['from']]>500000 and (s['user_id'],s['from']) not in dz2:\n",
    "            dz2.add((s['user_id'],s['from']))\n",
    "            edge.append([zn[s['user_id']],zn[s['from']],s['follower_count']])\n",
    "        if s['user_id'] not in dz:\n",
    "            node.append([s['user_id'],zn[s['user_id']],s['follower_count']])\n",
    "            namev.append(zn[s['user_id']]) # 大v名字\n",
    "            dz.add(s['user_id'])\n",
    "print(len(node),len(edge))"
   ]
  },
  {
   "cell_type": "code",
   "execution_count": 36,
   "metadata": {},
   "outputs": [],
   "source": [
    "# print(node)\n",
    "# print(len(namev),namev)\n",
    "# print(edge)"
   ]
  },
  {
   "cell_type": "code",
   "execution_count": 58,
   "metadata": {},
   "outputs": [
    {
     "name": "stdout",
     "output_type": "stream",
     "text": [
      "[[6, 28, 897238], [8, 28, 974899], [27, 6, 2225802], [28, 6, 2251527], [34, 6, 933247], [30, 6, 897489], [9, 6, 1072526], [8, 6, 974899], [37, 8, 3991087], [45, 8, 1274837], [39, 8, 2336709], [8, 9, 974899], [34, 27, 933248], [37, 27, 3991188], [30, 27, 897489], [45, 27, 1274837], [28, 27, 2251526], [28, 30, 2251527], [34, 30, 933248], [6, 30, 897242], [9, 30, 1072526], [8, 30, 974898], [45, 34, 1274836], [27, 34, 2225806], [6, 34, 897242], [9, 34, 1072526], [8, 34, 974899], [27, 37, 2225817], [28, 37, 2251530], [34, 37, 933249], [39, 37, 2337133], [8, 37, 974899], [6, 39, 897245], [37, 39, 3991539], [45, 39, 1274843], [27, 39, 2225817], [34, 39, 933249], [28, 39, 2251530], [9, 39, 1072526], [8, 39, 974899], [27, 45, 2225833]]\n",
      "[[0, '穷游锦囊'], [1, '斌卡'], [2, '王尼玛'], [3, '肥肥猫'], [4, '张亮'], [5, '动机在杭州'], [6, '李淼'], [7, 'chenqin'], [8, '周源'], [9, '李开复'], [10, 'maggie'], [11, '无耻采铜'], [12, '陈柏龄'], [13, '朱炫'], [14, '黄继新'], [15, '梁边妖'], [16, '葛巾'], [17, '马伯庸'], [18, 'cOMMANDO'], [19, '中国科普博览'], [20, '程毅南'], [21, '田吉顺'], [22, 'Nordenbox'], [23, 'talich'], [24, 'Raymond Wang'], [25, 'yolfilm'], [26, 'magasa'], [27, '丁香医生'], [28, '张佳玮'], [29, '陈章鱼'], [30, 'warfalcon'], [31, '何明科'], [32, 'vczh'], [33, '汪惟'], [34, '张小北'], [35, '马力'], [36, '下厨房'], [37, '知乎日报'], [38, '知科技'], [39, '刘看山'], [40, '张译'], [41, '周晓农'], [42, '寺主人'], [43, '李松蔚'], [44, '真实故事计划'], [45, 'KnowYourself'], [46, '菠菜'], [47, 'Jennyyy'], [48, '高科'], [49, 'Lens']]\n"
     ]
    }
   ],
   "source": [
    "# 转换为数字\n",
    "nz = {}\n",
    "for i,n in enumerate(node):\n",
    "    nz[n[1]] = i \n",
    "\n",
    "edgen = []\n",
    "for e in edge:\n",
    "    if nz[e[0]] in {37,28,39,27,45,9,8,34,30,6} and nz[e[1]] in {37,28,39,27,45,9,8,34,30,6}:\n",
    "        edgen.append([nz[e[0]],nz[e[1]],e[2]])\n",
    "print(edgen)\n",
    "noden = []\n",
    "for z in nz:\n",
    "    noden.append([nz[z],z])\n",
    "print(noden)"
   ]
  },
  {
   "cell_type": "code",
   "execution_count": 59,
   "metadata": {},
   "outputs": [],
   "source": [
    "import pandas as pd\n",
    "\n",
    "# ndf = pd.DataFrame(node)\n",
    "edf = pd.DataFrame(edgen)\n",
    "# ndf.to_csv('C:\\\\Users\\\\yc\\\\Desktop\\\\node.csv', sep=',', encoding='utf_8_sig')\n",
    "edf.to_csv('C:\\\\Users\\\\yc\\\\Desktop\\\\e10.csv', sep=',', encoding='utf_8_sig')"
   ]
  },
  {
   "cell_type": "code",
   "execution_count": 11,
   "metadata": {},
   "outputs": [
    {
     "name": "stdout",
     "output_type": "stream",
     "text": [
      "49516 53339\n"
     ]
    }
   ],
   "source": []
  },
  {
   "cell_type": "markdown",
   "metadata": {},
   "source": [
    "# 第四部分 词云\n",
    "* 数据：粉丝数大于等于 1w 用户\n",
    "* 用户个人信息词云"
   ]
  },
  {
   "cell_type": "code",
   "execution_count": 64,
   "metadata": {},
   "outputs": [],
   "source": [
    "# 词云\n",
    "import pymongo\n",
    "def get_ready(ch='user_info',dbname='zhihu'):\n",
    "    '''数据库调用'''\n",
    "    global mycol, myclient,myhp\n",
    "    myclient = pymongo.MongoClient(\"mongodb://localhost:27017/\")\n",
    "    mydb = myclient[dbname]\n",
    "    mycol = mydb[ch]\n",
    "get_ready()\n",
    "ss = mycol.find({})\n",
    "with open(r'C:\\Users\\yc\\Desktop\\zhihuv.txt', 'w', encoding='utf8') as f:\n",
    "    for i,s in enumerate(ss):\n",
    "#         print(s)\n",
    "        if i>=0:\n",
    "            record = []\n",
    "            rep = s['user_id'].replace('.', '!---!') if '.' in s['user_id'] else s['user_id']\n",
    "#             print(s['user_id'])\n",
    "            headline = s['user_info'][rep]['headline'] # 描述\n",
    "            mydes = s['user_info'][rep]['description'] # 自我简介\n",
    "            caree = s['user_info'][rep]['business']['name'] # 职业\n",
    "            record.extend([headline, mydes, caree])\n",
    "\n",
    "            if s['user_info'][rep]['locations']:\n",
    "                loca = s['user_info'][rep]['locations'][0]['name'] # 居住地\n",
    "                record.append(loca)\n",
    "            if s['user_info'][rep]['employments']:\n",
    "                for w in s['user_info'][rep]['employments']:\n",
    "                    if 'job' in w:\n",
    "                        work = w['job']['name'] # 工作\n",
    "                        record.append(work)\n",
    "                    if 'company' in w:\n",
    "                        company = w['company']['name'] # 公司\n",
    "                        record.append(company)\n",
    "            if s['user_info'][rep]['educations']:\n",
    "                for e in s['user_info'][rep]['educations']:\n",
    "                    if 'school' in e:\n",
    "                        school = e['school']['name'] # 学校\n",
    "                        record.append(school)\n",
    "                    if 'major' in e:\n",
    "                        major = e['major']['name'] # 专业\n",
    "                    record.append(major)\n",
    "            f.write(\",\".join(record)) # 列表转字符串"
   ]
  },
  {
   "cell_type": "code",
   "execution_count": 105,
   "metadata": {},
   "outputs": [
    {
     "name": "stdout",
     "output_type": "stream",
     "text": [
      "[('公众号', 0.1694499799170197), ('微信', 0.11480064202932651), ('3A', 0.09004179388659618), ('互联网', 0.05947175825140716), ('知乎', 0.05613063649452324), ('私信', 0.0502512777068371), ('微博', 0.05004673150218566), ('维权骑士', 0.044862186378280586), ('University', 0.039413123646013015), ('北京', 0.0384383784634798), ('大学', 0.02971240164310006), ('咨询', 0.0273066921668987), ('创始人', 0.023614803880149443), ('文章', 0.02289166746332765), ('维权行动', 0.02226465855556593), ('上海', 0.022210986441598333), ('关注', 0.022041277532240045), ('欢迎', 0.02047004478298735), ('转载', 0.017607145739333814), ('爱好者', 0.017077384611208682), ('专业', 0.016909909976870953), ('艺术', 0.016560692888448355), ('委托', 0.016381893731207534), ('创意', 0.014598095754361362), ('值乎', 0.01438975789492019), ('ID', 0.014336854373247688), ('internal', 0.013807819156522681), ('健身', 0.013650198551361799), ('专栏', 0.013514860092910745), ('学院', 0.013015153631474733), ('教育', 0.012916117346512195), ('分享', 0.012805936672638235), ('公号', 0.012696845201400166), ('干货', 0.01267988931168945), ('金融', 0.012547427385741659), ('学习', 0.01250154483265253), ('工程师', 0.012457775839179725), ('硕士', 0.012286357377525366), ('设计', 0.012033937523925071), ('CEO', 0.011903292376312656), ('游戏', 0.01189815833789028), ('本人', 0.011468351227836158), ('高等教育', 0.010888594731383573), ('心理咨询', 0.010872442208804591), ('媒体', 0.010868517625689838), ('心理学', 0.010778006636212735), ('回答', 0.010735357223161794), ('设计师', 0.01055169197237962), ('科技', 0.010530320325487027), ('中国', 0.010409332856291769), ('版权保护', 0.010253270424425927), ('技术', 0.010191903913928478), ('电影', 0.009899623357677599), ('运营', 0.009775442792177827), ('作者', 0.00976871393244007), ('weibo', 0.009628440944395127), ('博士', 0.009619707626852412), ('产品', 0.009558441456327173), ('清华大学', 0.009547683974070088), ('科研', 0.009537181087584579), ('专注', 0.009531026715997), ('约稿', 0.009258116292687621), ('生活', 0.009207313406683232), ('旅行', 0.009021273384005346), ('计算机软件', 0.008953713955295544), ('摄影', 0.008938873178303249), ('投资', 0.008917486350259633), ('北京大学', 0.008897593789912336), ('管理', 0.008894579675105433), ('知识', 0.008618526706579546), ('授权', 0.008601514281119603), ('世界', 0.008426859938260412), ('临床', 0.008348545287742473), ('维权', 0.008061739700913827), ('付费', 0.008036097533484443), ('计算机科学', 0.007988323566232691), ('杭州', 0.007940265552978542), ('医疗', 0.007916443147320432), ('研究', 0.007883179243977821), ('信号', 0.00782436663797427), ('传媒', 0.00779778231504069), ('经理', 0.007638606937495409), ('有趣', 0.007617978444801858), ('职业', 0.00757767328566227), ('美食', 0.007527778918516284), ('科普', 0.0074656161334020876), ('创业', 0.00732580505720409), ('id', 0.007300685990805095), ('法律', 0.00729253936915543), ('英语', 0.007290165400251799), ('深圳市', 0.007272194644434954), ('培训', 0.007258592228423307), ('平台', 0.007046447247304988), ('总监', 0.007034068641477433), ('加入', 0.0068984225931629), ('服务', 0.006879431718600762), ('有限公司', 0.006872120013408992), ('人生', 0.0068487748192007005), ('科学', 0.006812340921135003), ('故事', 0.0067982193252360676), ('信息', 0.006765735117009864), ('author', 0.0067187472524075885), ('电子游戏', 0.006617896834082833), ('提问', 0.006517134502260004), ('people', 0.0065071331657175855), ('合作', 0.006436911672643724), ('情感', 0.0063960747637417745), ('成都', 0.006344156473990256), ('author%', 0.006242615557355082), ('汽车', 0.00623377192936218), ('经济学', 0.006083349120552012), ('职场', 0.006043756919824493), ('工程', 0.006031916202500962), ('体育', 0.006031383486494448), ('数学', 0.00602425129557425), ('娱乐', 0.006012438149773647), ('心理', 0.005996742844283875), ('摄影师', 0.005972628846087807), ('美国', 0.005922937636773066), ('计划', 0.0058764697659155745), ('工作', 0.005858500320127847), ('资深', 0.005858174340579628), ('交流', 0.005852296617593474), ('工作室', 0.005844292526156753), ('谢谢', 0.005840152728196067), ('提供', 0.005824801875792772), ('pub', 0.005819387383975076), ('音乐', 0.0058089881734128416), ('在读', 0.005806985662384444), ('护肤', 0.005681175958903055), ('评论', 0.005668172391478318), ('答案', 0.005618309513032619), ('分析', 0.005594389193755006), ('临床医学', 0.0055853142191368), ('公司', 0.005565911457321096), ('MBA', 0.005554869775612573), ('github', 0.005501966253940073), ('律师', 0.005501604700642378), ('广州', 0.005456096064681533), ('高新科技', 0.005446658293576666), ('内容', 0.0054302670080419784), ('留学', 0.00536793050445248), ('程序员', 0.005240317108504113), ('广州市', 0.005231798073285968), ('老师', 0.005189600522179198), ('复旦大学', 0.005137359983301368), ('广告', 0.005089742042450204), ('考研', 0.005074322608006708), ('课程', 0.004963259014492484), ('文化', 0.004931989943217863), ('腾讯', 0.004911171273042709), ('文学', 0.004905515975404141), ('品牌', 0.004887728244947715), ('深圳', 0.004865654857130011), ('旅游', 0.0048571003728756085), ('国际', 0.004790471675131188), ('如需', 0.004790166083225341), ('康复', 0.004787481079622786), ('编辑', 0.0047296182482814315), ('物理', 0.004723423062413828), ('领域', 0.0047183611398475475), ('更新', 0.004712588569884013), ('希望', 0.004653114892426795), ('高级', 0.004630597637006191), ('北京市', 0.004593612337864259), ('数据', 0.004570338237454209), ('历史', 0.004542680292833436), ('教练', 0.004478031009460422), ('动画', 0.004457185706035677), ('me', 0.0044438958204900585), ('联系', 0.004420711714566253), ('应用', 0.004415183913622424), ('广播电视', 0.004404394367538422), ('al', 0.004390992298817557), ('医生', 0.004390951707773716), ('自由', 0.004386608711293827), ('联合', 0.004375365148818664), ('编剧', 0.00437025327090825), ('工商管理', 0.004349029028055565), ('APP', 0.004338088777145057), ('本科', 0.004335168032809849), ('教师', 0.004297704007005041), ('合伙人', 0.004286712987928116), ('营销', 0.004275368916600833), ('写作', 0.004274624104245905), ('致力于', 0.004273897473667828), ('计算机', 0.004245970114810531), ('专家', 0.0042391040656964765), ('浙江大学', 0.004216927344706314), ('网站', 0.004198931351953109), ('私人', 0.0041980978326260215), ('电商', 0.004188223637078324), ('material', 0.004179378212127555), ('3Fid%', 0.004179378212127555), ('materi', 0.004179378212127555), ('版权', 0.004136575465604121), ('南京', 0.004133673735107203), ('热爱', 0.004129791225498267), ('咨询师', 0.004106010030932899), ('建筑', 0.004091273928714006), ('豆瓣', 0.004087352830493466), ('从业者', 0.004058601628384807), ('时尚', 0.004056965788390161), ('新浪', 0.004014605477795843), ('健康', 0.003986958110855899), ('行业', 0.003983914046187377), ('体验', 0.003980079257390352), ('研究生', 0.003979128075720374), ('net', 0.003967764125437552), ('经验', 0.003950585376785191), ('段子', 0.003933121817702115), ('运动', 0.003925376550102003), ('QQ', 0.003914860603765051), ('请加', 0.003914860603765051), ('搜索', 0.0039003902911618643), ('策划', 0.003888865883267116), ('电子商务', 0.0038734678420191356), ('免费', 0.003872099687770575), ('成长', 0.0038337821570894755), ('读书', 0.0038240400599102546), ('讲师', 0.003822575025808393), ('douban', 0.00380905356042005), ('克莱登', 0.00380905356042005), ('擅长', 0.0038068643482828918), ('创业者', 0.0037978844578154913), ('lives', 0.003756150038747549), ('帮助', 0.0037531976611985506), ('资本', 0.0037514139173986274), ('华中科技大学', 0.0037509980076779084), ('注明', 0.003743040071800613), ('非营利', 0.0037377099218933235), ('上海交通大学', 0.003688663303265213), ('朋友', 0.0036742858862044586), ('顾问', 0.0036653645749843565), ('撰稿人', 0.0036167198632115344), ('哲学', 0.003613898256435769), ('努力', 0.0035981806588596867), ('作家', 0.003597604458734893), ('博主', 0.0035974394737300474), ('一切', 0.003581957562039801), ('餐饮', 0.003561442220633704), ('影视', 0.0035522041823995787), ('偶尔', 0.003533804937078324), ('集团', 0.0035333084217912757), ('商业', 0.0035247930343859663), ('国家', 0.003522936957246396), ('备注', 0.0035163237893615605), ('软件', 0.0035132998466715936), ('武汉', 0.0035059563401682948), ('头像', 0.003500825644476685), ('香港', 0.003497974338311214), ('一枚', 0.0034818268842959116), ('企业', 0.003474971020434742), ('用户', 0.003471957483098866), ('中山大学', 0.0034553801876470195), ('学校', 0.0034257954819055373), ('日本', 0.0034116742066163655), ('获取', 0.003398093816325889), ('业余', 0.003397324309304651), ('College', 0.0033858253870400444), ('吃货', 0.0033858253870400444), ('接受', 0.0033753682936964154), ('导师', 0.0033490485905300635), ('移步', 0.0033485171409947207), ('医学', 0.0033280737164107215), ('阅读', 0.0033258886524588334), ('注册', 0.0033234361012485117), ('账号', 0.0032908382739495422), ('网易', 0.0032894901153018275), ('2018', 0.003280018343695043), ('zhi', 0.003280018343695043), ('PhD', 0.003280018343695043), ('电子', 0.003270821277346895), ('法学', 0.0032555395394321), ('出版业', 0.0032161766745513846), ('翻译', 0.0032160410292788964), ('团队', 0.003189717484577007), ('新闻', 0.0031838337872891007), ('毕业', 0.003171350899398822), ('软件工程', 0.003170760418916419), ('爱好', 0.0031625343635496277), ('自由职业', 0.003161555463614237), ('基础教育', 0.003140092130235028), ('认证', 0.003129687019115204), ('org', 0.003121307778677541), ('玩家', 0.0031101309663211976), ('人工智能', 0.0030972459243637958), ('原创', 0.003093588067047169), ('武汉大学', 0.003087323143909936), ('全球', 0.0030804149010013587), ('London', 0.0030684042570050403), ('学生', 0.003060515276738371), ('签约', 0.003052804647052524), ('出版', 0.003051441851962624), ('思维', 0.003048457737306315), ('助理', 0.0030402781787367958), ('答题', 0.00304000406980657), ('添加', 0.003027443055750023), ('加微信', 0.0030155007353325396), ('理财', 0.003000182431756139)]\n"
     ]
    }
   ],
   "source": [
    "# 分词\n",
    "import jieba.analyse\n",
    "\n",
    "# 数据生成---------------------------\n",
    "jieba.load_userdict(r'C:\\Users\\yc\\Desktop\\jieba2.txt')\n",
    "jieba.analyse.set_stop_words(r'C:\\Users\\yc\\Desktop\\stop2.txt') \n",
    "with open(r'C:\\Users\\yc\\Desktop\\zhihuv.txt', 'rb' ) as f:\n",
    "    sentence = f.read()\n",
    "a = jieba.analyse.extract_tags(sentence, topK=300, withWeight=True, allowPOS=())\n",
    "print(a)"
   ]
  },
  {
   "cell_type": "code",
   "execution_count": 31,
   "metadata": {},
   "outputs": [],
   "source": [
    "a = [('公众号', 0.16945072978859638), ('微信', 0.11480115005971094), ('互联网', 0.05947202143338657), ('知乎', 0.05613088489094622), ('私信', 0.05025150008517471), ('微博', 0.05004695297533942), ('维权骑士', 0.04486238490812667), ('University', 0.039413298061974494), ('北京', 0.038438548565875065), ('大学', 0.029712533130194226), ('咨询', 0.027306813007941695), ('创始人', 0.0236149083833794), ('文章', 0.02289176876644248), ('维权行动', 0.02226475708396129), ('上海', 0.022211084732477033), ('关注', 0.022041375072101323), ('欢迎', 0.020470135369629865), ('转载', 0.017607223656711805), ('爱好者', 0.017077460184220433), ('专业', 0.01690998480875268), ('艺术', 0.016560766174930255), ('委托', 0.01638196622644469), ('创意', 0.014598160355709114), ('值乎', 0.014389821574304781), ('ID', 0.014336917818516896), ('健身', 0.013650258957954435), ('专栏', 0.013514919900586444), ('学院', 0.013015211227785919), ('教育', 0.012916174504555431), ('分享', 0.01280599334309596), ('公号', 0.012696901389092453), ('干货', 0.012679945424346379), ('金融', 0.012547482912211248), ('学习', 0.012501600156076816), ('工程师', 0.0124578309689119), ('硕士', 0.012286411748674791), ('设计', 0.012033990778034093), ('CEO', 0.011903345052274176), ('游戏', 0.011898210991132), ('本人', 0.011468401979040853), ('高等教育', 0.010888642916976176), ('心理咨询', 0.010872490322916999), ('媒体', 0.010868565722434682), ('心理学', 0.01077805433241685), ('回答', 0.010735404730628308), ('设计师', 0.010551738667067335), ('科技', 0.010530366925598215), ('中国', 0.01040937892099384), ('版权保护', 0.010253315798500699), ('技术', 0.010191949016436374), ('电影', 0.009899667166748448), ('运营', 0.009775486051709062), ('作者', 0.0097687571621939), ('weibo', 0.009628483553395111), ('博士', 0.00961975019720461), ('产品', 0.00955848375555653), ('清华大学', 0.009547726225694069), ('科研', 0.00953722329272985), ('专注', 0.009531068893907165), ('约稿', 0.009258157262879914), ('生活', 0.00920735415205614), ('旅行', 0.009021313306090312), ('计算机软件', 0.008953753578407945), ('摄影', 0.008938912735740356), ('投资', 0.008917525813053032), ('北京大学', 0.00889763316467465), ('管理', 0.008894619036529305), ('知识', 0.008618564846378754), ('授权', 0.008601552345633263), ('世界', 0.008426897229871489), ('临床', 0.00834858223278561), ('维权', 0.008061775376748449), ('付费', 0.008036133095844087), ('计算机科学', 0.007988358917176907), ('杭州', 0.007940300691250332), ('医疗', 0.007916478180170286), ('研究', 0.007883214129624025), ('信号', 0.007824401263355459), ('传媒', 0.007797816822777557), ('经理', 0.007638640740829173), ('有趣', 0.0076180121568477956), ('职业', 0.007577706819344698), ('美食', 0.0075278122313998195), ('科普', 0.00746564917119497), ('创业', 0.007325837476287239), ('id', 0.007300718298728161), ('法律', 0.0072925716410270295), ('英语', 0.007290197661617812), ('深圳市', 0.007272226826274494), ('培训', 0.0072586243500677074), ('平台', 0.007046478430138468), ('总监', 0.007034099769531536), ('加入', 0.0068984531209388775), ('服务', 0.006879462162335908), ('有限公司', 0.006872150424787451), ('人生', 0.006848805127269042), ('科学', 0.00681237106797143), ('故事', 0.006798249409579815), ('信息', 0.006765765057600366), ('电子游戏', 0.006617926120440585), ('提问', 0.006517163342711487), ('合作', 0.006436940158082948), ('情感', 0.006396103068464323), ('成都', 0.0063441845489573935), ('汽车', 0.006233799515841609), ('经济学', 0.0060833760413613195), ('职场', 0.006043783665425363), ('工程', 0.006031942895702786), ('体育', 0.00603141017733883), ('数学', 0.006024277954856354), ('娱乐', 0.006012464756778716), ('心理', 0.005996769381832086), ('摄影师', 0.00597265527692369), ('美国', 0.005922963847709097), ('计划', 0.00587649577121608), ('工作', 0.005858526245907679), ('资深', 0.005858200264916893), ('交流', 0.005852322515919893), ('工作室', 0.005844318389062449), ('谢谢', 0.005840178572781805), ('提供', 0.0058248276524459665), ('音乐', 0.005809013880085232), ('在读', 0.005807011360195068), ('护肤', 0.005681201099964597), ('评论', 0.005668197474994822), ('答案', 0.005618334375889579), ('分析', 0.005594413950756731), ('临床医学', 0.005585338935978794), ('公司', 0.005565936088299524), ('MBA', 0.005554894357727948), ('github', 0.005501990601940063), ('律师', 0.005501629047042376), ('广州', 0.005456120209690935), ('高新科技', 0.005446682396820844), ('内容', 0.005430291038749358), ('留学', 0.005367954259300445), ('程序员', 0.0052403402986210676), ('广州市', 0.005231821225703406), ('老师', 0.005189623487858673), ('复旦大学', 0.005137382717799374), ('广告', 0.005089764566223249), ('考研', 0.005074345063543713), ('课程', 0.004963280978536766), ('文化', 0.0049320117688862785), ('腾讯', 0.004911193006581701), ('文学', 0.004905537683916591), ('品牌', 0.004887749874743641), ('深圳', 0.0048656763892439775), ('旅游', 0.0048571218671331845), ('国际', 0.0047904928745349865), ('如需', 0.004790187281276795), ('康复', 0.004787502265792222), ('编辑', 0.0047296391783889155), ('物理', 0.004723443965105588), ('领域', 0.004718382020138645), ('更新', 0.0047126094246296), ('希望', 0.004653135483981909), ('高级', 0.0046306181289150865), ('北京市', 0.00459363266610111), ('数据', 0.0045703584626955555), ('历史', 0.004542700395679332), ('教练', 0.004478050826212098), ('动画', 0.004457205430540067), ('联系', 0.004420731277661303), ('应用', 0.004415203452255147), ('广播电视', 0.004404413858423875), ('医生', 0.004390971139171003), ('自由', 0.004386628123471934), ('联合', 0.004375384511240331), ('编剧', 0.004370272610708185), ('工商管理', 0.004349048273931283), ('APP', 0.004338107974606588), ('本科', 0.004335187217346131), ('教师', 0.004297723025750757), ('合伙人', 0.004286731958034978), ('营销', 0.004275387836506469), ('写作', 0.004274643020855505), ('致力于', 0.004273916387061849), ('计算机', 0.004245988904616855), ('专家', 0.004239122825118289), ('浙江大学', 0.004216946005988884), ('网站', 0.004198949933597525), ('私人', 0.004198116410581842), ('电商', 0.0041882421713375995),('版权', 0.004136593771303347), ('南京', 0.004133692027965322), ('热爱', 0.004129809501175013), ('咨询师', 0.004106028201370081), ('建筑', 0.004091292033939116)]"
   ]
  },
  {
   "cell_type": "markdown",
   "metadata": {},
   "source": [
    "分词前300包含城市排行：\n",
    "北京、上海、深圳、广州、杭州、成都、南京"
   ]
  },
  {
   "cell_type": "code",
   "execution_count": 35,
   "metadata": {},
   "outputs": [
    {
     "name": "stdout",
     "output_type": "stream",
     "text": [
      "建筑 0.004091292033939116\n"
     ]
    },
    {
     "name": "stderr",
     "output_type": "stream",
     "text": [
      "E:\\setup\\envs\\py3\\lib\\site-packages\\ipykernel_launcher.py:17: DeprecationWarning: `imread` is deprecated!\n",
      "`imread` is deprecated in SciPy 1.0.0, and will be removed in 1.2.0.\n",
      "Use ``imageio.imread`` instead.\n"
     ]
    },
    {
     "data": {
      "image/png": "[encoded data removed]",
      "text/plain": [
       "<Figure size 432x288 with 1 Axes>"
      ]
     },
     "metadata": {
      "needs_background": "light"
     },
     "output_type": "display_data"
    },
    {
     "data": {
      "text/plain": [
       "<wordcloud.wordcloud.WordCloud at 0x21b3f9a4d30>"
      ]
     },
     "execution_count": 35,
     "metadata": {},
     "output_type": "execute_result"
    }
   ],
   "source": [
    "from wordcloud import WordCloud, ImageColorGenerator\n",
    "import matplotlib.pyplot as plt\n",
    "import numpy as np\n",
    "from scipy.misc import imread\n",
    "\n",
    "#显示图形\n",
    "%matplotlib inline \n",
    "\n",
    "\n",
    "b = {}\n",
    "for i,j in a:\n",
    "    b[i] = j\n",
    "print(i,j)\n",
    "\n",
    "# wordcloud 部分设置\n",
    "font_path = r'C:\\Users\\yc\\Desktop\\SIMFANG.ttf' # 字体 # wordcloud设置\n",
    "back_coloring = imread(r'C:\\Users\\yc\\Desktop\\get.png')  # 设置背景图片\n",
    "\n",
    "\n",
    "# 设置词云属性\n",
    "wc = WordCloud(font_path=font_path,  # 设置字体\n",
    "               background_color=\"green\", max_words=2000, mask=back_coloring, # 词云背景颜色图此处修改\n",
    "               max_font_size=100, random_state=4, width=1000, height=860, margin=2,\n",
    "#                contour_width=1, contour_color='black',\n",
    "               )\n",
    "# 根据频率生成词云\n",
    "wc.generate_from_frequencies(b)\n",
    "# create coloring from image\n",
    "image_colors_default = ImageColorGenerator(back_coloring)\n",
    "\n",
    "# 显示图片\n",
    "plt.figure()\n",
    "# plt.imshow(wc.recolor(color_func=image_colors_default), interpolation=\"bilinear\")\n",
    "plt.imshow(wc,interpolation=\"bilinear\")\n",
    "plt.axis(\"off\")\n",
    "plt.show()\n",
    "wc.to_file(r'C:\\Users\\yc\\Desktop\\zhihu1.jpg') # 保存文件"
   ]
  },
  {
   "cell_type": "code",
   "execution_count": null,
   "metadata": {},
   "outputs": [],
   "source": []
  }
 ],
 "metadata": {
  "kernelspec": {
   "display_name": "Python [conda env:py3]",
   "language": "python",
   "name": "conda-env-py3-py"
  },
  "language_info": {
   "codemirror_mode": {
    "name": "ipython",
    "version": 3
   },
   "file_extension": ".py",
   "mimetype": "text/x-python",
   "name": "python",
   "nbconvert_exporter": "python",
   "pygments_lexer": "ipython3",
   "version": "3.7.2"
  }
 },
 "nbformat": 4,
 "nbformat_minor": 2
}
